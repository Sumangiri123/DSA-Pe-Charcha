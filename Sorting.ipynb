{
 "cells": [
  {
   "cell_type": "markdown",
   "id": "8cb2768b",
   "metadata": {},
   "source": [
    "# Sorting Algorithm"
   ]
  },
  {
   "cell_type": "markdown",
   "id": "1272ae46",
   "metadata": {},
   "source": [
    "**Bubble Sort**"
   ]
  },
  {
   "cell_type": "code",
   "execution_count": null,
   "id": "ad490574",
   "metadata": {},
   "outputs": [
    {
     "name": "stdout",
     "output_type": "stream",
     "text": [
      "[1, 2, 3, 4, 5]\n"
     ]
    }
   ],
   "source": [
    "def bubble_sort(arr):\n",
    "    for i in range(len(arr)-1,0,-1):\n",
    "        for j in range(i):\n",
    "            if arr[j] > arr[j+1]:\n",
    "                arr[j],arr[j+1]=arr[j+1],arr[j]\n",
    "    return arr\n",
    "\n",
    "arr = [5,4,3,2,1]\n",
    "print(bubble_sort(arr))\n",
    "\n",
    "# Time Complexity -- O(n^2)\n",
    "# Space Complexity -- O(1)"
   ]
  },
  {
   "cell_type": "markdown",
   "id": "793d111b",
   "metadata": {},
   "source": [
    "**Modified Bubble Sort**"
   ]
  },
  {
   "cell_type": "code",
   "execution_count": 8,
   "id": "352e5a0d",
   "metadata": {},
   "outputs": [
    {
     "name": "stdout",
     "output_type": "stream",
     "text": [
      "[1, 2, 3, 4, 5]\n"
     ]
    }
   ],
   "source": [
    "# Aim to stop iterating when we reach the sorted array\n",
    "\n",
    "def modified_bubble_sort(arr):\n",
    "    for i in range(len(arr)-1,0,-1):\n",
    "        flag = 0\n",
    "        for j in range(i):\n",
    "            if arr[j] > arr[j+1]:\n",
    "                flag = 1\n",
    "                arr[j],arr[j+1]=arr[j+1],arr[j]\n",
    "        \n",
    "        if flag == 0:\n",
    "            break\n",
    "            \n",
    "    return arr\n",
    "    \n",
    "arr = [5,4,3,2,1]\n",
    "print(modified_bubble_sort(arr))\n",
    "\n",
    "# Time Complexity -- O(n^2)\n",
    "# Space Complexity -- O(1)"
   ]
  },
  {
   "cell_type": "markdown",
   "id": "dc7fc9e7",
   "metadata": {},
   "source": [
    "**Selection Sort**"
   ]
  },
  {
   "cell_type": "code",
   "execution_count": 9,
   "id": "8707aa42",
   "metadata": {},
   "outputs": [
    {
     "name": "stdout",
     "output_type": "stream",
     "text": [
      "[1, 2, 3, 4, 5]\n"
     ]
    }
   ],
   "source": [
    "def selection_sort(arr):\n",
    "    for i in range(len(arr)):\n",
    "        mini = i\n",
    "        for j in range(i,len(arr)):\n",
    "            if arr[j] < arr[mini]:\n",
    "                mini = j\n",
    "        arr[i],arr[mini] = arr[mini],arr[i]\n",
    "    \n",
    "    return arr\n",
    "\n",
    "arr = [5,4,3,2,1]\n",
    "print(selection_sort(arr))\n",
    "\n",
    "# Time Complexity -- O(n^2)\n",
    "# Space Complexity -- O(1)"
   ]
  },
  {
   "cell_type": "markdown",
   "id": "dc14864f",
   "metadata": {},
   "source": [
    "**Insertion Sort**"
   ]
  },
  {
   "cell_type": "code",
   "execution_count": null,
   "id": "8f2bb95b",
   "metadata": {},
   "outputs": [],
   "source": []
  },
  {
   "cell_type": "markdown",
   "id": "f8c0f601",
   "metadata": {},
   "source": [
    "**Merge Sort**"
   ]
  },
  {
   "cell_type": "code",
   "execution_count": null,
   "id": "9213f285",
   "metadata": {},
   "outputs": [],
   "source": []
  },
  {
   "cell_type": "markdown",
   "id": "9b0c376a",
   "metadata": {},
   "source": [
    "**Quick Sort**"
   ]
  },
  {
   "cell_type": "code",
   "execution_count": null,
   "id": "e560b915",
   "metadata": {},
   "outputs": [],
   "source": []
  },
  {
   "cell_type": "markdown",
   "id": "faef2eb5",
   "metadata": {},
   "source": [
    "# Searching Algorithms"
   ]
  },
  {
   "cell_type": "markdown",
   "id": "a39f7ca8",
   "metadata": {},
   "source": [
    "**Linear Search**"
   ]
  },
  {
   "cell_type": "code",
   "execution_count": null,
   "id": "76ed0496",
   "metadata": {},
   "outputs": [
    {
     "name": "stdout",
     "output_type": "stream",
     "text": [
      "4\n"
     ]
    }
   ],
   "source": [
    "def linear_search(arr,target):\n",
    "    for i in range(len(arr)):\n",
    "        if arr[i] == target:\n",
    "            return i\n",
    "    return -1\n",
    "\n",
    "arr = [5,4,3,8,9]\n",
    "target = 9\n",
    "print(linear_search(arr,target))\n",
    "\n",
    "# Time Complexity -- O(n)\n",
    "# \n",
    "    "
   ]
  },
  {
   "cell_type": "markdown",
   "id": "8ae0e54a",
   "metadata": {},
   "source": [
    "**Binary Search**"
   ]
  },
  {
   "cell_type": "code",
   "execution_count": null,
   "id": "870a802c",
   "metadata": {},
   "outputs": [],
   "source": [
    "def binary_search(arr,target):\n",
    "    arr = bubble_sort(arr)\n",
    "    left = 0\n",
    "    right = len(arr)-1\n",
    "    for i in range(left,right+1):\n",
    "        mid = left + (right-left)//2\n",
    "        if arr[mid] == target:\n",
    "            return mid\n",
    "        elif arr[mid] > target:\n",
    "            right = mid-1\n",
    "        else:\n",
    "            left = mid+1\n",
    "    return "
   ]
  }
 ],
 "metadata": {
  "kernelspec": {
   "display_name": "Python (venv)",
   "language": "python",
   "name": "venv"
  },
  "language_info": {
   "codemirror_mode": {
    "name": "ipython",
    "version": 3
   },
   "file_extension": ".py",
   "mimetype": "text/x-python",
   "name": "python",
   "nbconvert_exporter": "python",
   "pygments_lexer": "ipython3",
   "version": "3.10.0"
  }
 },
 "nbformat": 4,
 "nbformat_minor": 5
}
