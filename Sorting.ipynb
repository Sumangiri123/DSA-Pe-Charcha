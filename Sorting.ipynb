{
 "cells": [
  {
   "cell_type": "markdown",
   "id": "8cb2768b",
   "metadata": {},
   "source": [
    "# Sorting Algorithm"
   ]
  },
  {
   "cell_type": "markdown",
   "id": "1272ae46",
   "metadata": {},
   "source": [
    "**Bubble Sort**"
   ]
  },
  {
   "cell_type": "code",
   "execution_count": 1,
   "id": "ad490574",
   "metadata": {},
   "outputs": [
    {
     "name": "stdout",
     "output_type": "stream",
     "text": [
      "[1, 2, 3, 4, 5]\n"
     ]
    }
   ],
   "source": [
    "def bubble_sort(arr):\n",
    "    for i in range(len(arr)-1,0,-1):\n",
    "        for j in range(i):\n",
    "            if arr[j] > arr[j+1]:\n",
    "                arr[j],arr[j+1]=arr[j+1],arr[j]\n",
    "    return arr\n",
    "\n",
    "arr = [5,4,3,2,1]\n",
    "print(bubble_sort(arr))\n",
    "\n",
    "# Time Complexity -- O(n^2)\n",
    "# Space Complexity -- O(1)"
   ]
  },
  {
   "cell_type": "markdown",
   "id": "793d111b",
   "metadata": {},
   "source": [
    "**Modified Bubble Sort**"
   ]
  },
  {
   "cell_type": "code",
   "execution_count": 2,
   "id": "352e5a0d",
   "metadata": {},
   "outputs": [
    {
     "name": "stdout",
     "output_type": "stream",
     "text": [
      "[1, 2, 3, 4, 5]\n"
     ]
    }
   ],
   "source": [
    "# Aim to stop iterating when we reach the sorted array\n",
    "\n",
    "def modified_bubble_sort(arr):\n",
    "    for i in range(len(arr)-1,0,-1):\n",
    "        flag = 0\n",
    "        for j in range(i):\n",
    "            if arr[j] > arr[j+1]:\n",
    "                flag = 1\n",
    "                arr[j],arr[j+1]=arr[j+1],arr[j]\n",
    "        \n",
    "        if flag == 0:\n",
    "            break\n",
    "            \n",
    "    return arr\n",
    "    \n",
    "arr = [5,4,3,2,1]\n",
    "print(modified_bubble_sort(arr))\n",
    "\n",
    "# Time Complexity -- O(n^2)\n",
    "# Space Complexity -- O(1)"
   ]
  },
  {
   "cell_type": "markdown",
   "id": "dc7fc9e7",
   "metadata": {},
   "source": [
    "**Selection Sort**"
   ]
  },
  {
   "cell_type": "code",
   "execution_count": 5,
   "id": "8707aa42",
   "metadata": {},
   "outputs": [
    {
     "name": "stdout",
     "output_type": "stream",
     "text": [
      "[1, 2, 3, 4, 5]\n"
     ]
    }
   ],
   "source": [
    "def selection_sort(arr):\n",
    "    for i in range(len(arr)):\n",
    "        mini = i\n",
    "        for j in range(i,len(arr)):\n",
    "            if arr[j] < arr[mini]:\n",
    "                mini = j\n",
    "        arr[i],arr[mini] = arr[mini],arr[i]\n",
    "    \n",
    "    return arr\n",
    "\n",
    "arr = [5,4,3,2,1]\n",
    "print(selection_sort(arr))\n",
    "\n",
    "# Time Complexity -- O(n^2)\n",
    "# Space Complexity -- O(1)"
   ]
  },
  {
   "cell_type": "markdown",
   "id": "dc14864f",
   "metadata": {},
   "source": [
    "**Insertion Sort**"
   ]
  },
  {
   "cell_type": "code",
   "execution_count": 9,
   "id": "8f2bb95b",
   "metadata": {},
   "outputs": [
    {
     "name": "stdout",
     "output_type": "stream",
     "text": [
      "[1, 2, 3, 4, 5]\n"
     ]
    }
   ],
   "source": [
    "def insertion_sort(arr):\n",
    "    for i in range(len(arr)-1):\n",
    "        j = i\n",
    "        key = arr[j+1]\n",
    "        while j>=0 and arr[j] > key:\n",
    "            arr[j+1] = arr[j]\n",
    "            j -= 1\n",
    "        arr[j+1] = key\n",
    "    return arr\n",
    "\n",
    "arr = [5,4,3,2,1]\n",
    "print(insertion_sort(arr))\n",
    "\n",
    "# Time Complexity -- O(n^2)\n",
    "# Space Complexity -- O(1)"
   ]
  },
  {
   "cell_type": "markdown",
   "id": "f8c0f601",
   "metadata": {},
   "source": [
    "**Merge Sort**"
   ]
  },
  {
   "cell_type": "code",
   "execution_count": null,
   "id": "9213f285",
   "metadata": {},
   "outputs": [],
   "source": []
  },
  {
   "cell_type": "markdown",
   "id": "9b0c376a",
   "metadata": {},
   "source": [
    "**Quick Sort**"
   ]
  },
  {
   "cell_type": "code",
   "execution_count": null,
   "id": "e560b915",
   "metadata": {},
   "outputs": [],
   "source": []
  },
  {
   "cell_type": "markdown",
   "id": "992c860c",
   "metadata": {},
   "source": [
    "**Heap Sort**"
   ]
  },
  {
   "cell_type": "code",
   "execution_count": null,
   "id": "36d1e54c",
   "metadata": {},
   "outputs": [],
   "source": []
  },
  {
   "cell_type": "markdown",
   "id": "0a28e7b6",
   "metadata": {},
   "source": [
    "**Count Sort**"
   ]
  },
  {
   "cell_type": "code",
   "execution_count": null,
   "id": "d4a7acab",
   "metadata": {},
   "outputs": [],
   "source": []
  },
  {
   "cell_type": "markdown",
   "id": "faef2eb5",
   "metadata": {},
   "source": [
    "# Searching Algorithms"
   ]
  },
  {
   "cell_type": "markdown",
   "id": "a39f7ca8",
   "metadata": {},
   "source": [
    "**Linear Search**"
   ]
  },
  {
   "cell_type": "code",
   "execution_count": null,
   "id": "76ed0496",
   "metadata": {},
   "outputs": [
    {
     "name": "stdout",
     "output_type": "stream",
     "text": [
      "4\n"
     ]
    }
   ],
   "source": [
    "def linear_search(arr,target):\n",
    "    for i in range(len(arr)):\n",
    "        if arr[i] == target:\n",
    "            return i\n",
    "    return -1\n",
    "\n",
    "arr = [5,4,3,8,9]\n",
    "target = 9\n",
    "print(linear_search(arr,target))\n",
    "\n",
    "# Time Complexity -- O(n)\n",
    "# Space Complexity -- O(1)\n",
    "    "
   ]
  },
  {
   "cell_type": "markdown",
   "id": "8ae0e54a",
   "metadata": {},
   "source": [
    "**Binary Search**"
   ]
  },
  {
   "cell_type": "code",
   "execution_count": 14,
   "id": "870a802c",
   "metadata": {},
   "outputs": [
    {
     "name": "stdout",
     "output_type": "stream",
     "text": [
      "0\n"
     ]
    }
   ],
   "source": [
    "# Array mnust be sorted for searching \n",
    "\n",
    "def binary_search(arr,target):\n",
    "    left = 0\n",
    "    right = len(arr)-1\n",
    "    for i in range(left,right+1):\n",
    "        mid = left + (right-left)//2\n",
    "        if arr[mid] == target:\n",
    "            return mid\n",
    "        elif arr[mid] > target:\n",
    "            right = mid-1\n",
    "        else:\n",
    "            left = mid+1\n",
    "    return -1\n",
    "\n",
    "arr = [1,2,3,4,5]\n",
    "target = 1\n",
    "print(binary_search(arr,target))\n",
    "\n",
    "# Time Complexity -- O(log n)\n",
    "# Space Complexity -- O(1)"
   ]
  },
  {
   "cell_type": "markdown",
   "id": "73095a1b",
   "metadata": {},
   "source": [
    "**Binary Search using recursion**"
   ]
  },
  {
   "cell_type": "code",
   "execution_count": 16,
   "id": "7b32dd7f",
   "metadata": {},
   "outputs": [
    {
     "name": "stdout",
     "output_type": "stream",
     "text": [
      "4\n"
     ]
    }
   ],
   "source": [
    "def recursive_binary_search(arr,target,left,right):\n",
    "    if left > right:\n",
    "        return -1\n",
    "    mid = left + (right-left)//2\n",
    "    if arr[mid] == target:\n",
    "        return mid\n",
    "    elif arr[mid] > target:\n",
    "        return recursive_binary_search(arr,target,left,mid-1)\n",
    "    else:\n",
    "        return recursive_binary_search(arr,target,mid+1,right)\n",
    "    \n",
    "\n",
    "arr = [1,2,3,4,5]\n",
    "target = 5\n",
    "print(recursive_binary_search(arr,target,0,len(arr)-1))\n",
    "\n",
    "# Time Complexity -- O(log n)\n",
    "# Space Complexity -- O(log n)\n"
   ]
  },
  {
   "cell_type": "markdown",
   "id": "8c13a9bc",
   "metadata": {},
   "source": [
    "# Star Pattern Porblems"
   ]
  },
  {
   "cell_type": "code",
   "execution_count": 4,
   "id": "9c625a0b",
   "metadata": {},
   "outputs": [
    {
     "name": "stdout",
     "output_type": "stream",
     "text": [
      "****\n",
      "****\n",
      "****\n",
      "****\n"
     ]
    }
   ],
   "source": [
    "\"\"\"\n",
    "        ****\n",
    "        ****\n",
    "        ****\n",
    "        ****\n",
    "\"\"\"\n",
    "\n",
    "\n",
    "n = int(input(\"Enter the number of rows\"))\n",
    "for i in range(n):\n",
    "    for j in range(n):\n",
    "        print(\"*\",end=\"\")\n",
    "    print()"
   ]
  },
  {
   "cell_type": "code",
   "execution_count": 17,
   "id": "24dad5fd",
   "metadata": {},
   "outputs": [
    {
     "name": "stdout",
     "output_type": "stream",
     "text": [
      "*\n",
      "**\n",
      "***\n",
      "****\n"
     ]
    }
   ],
   "source": [
    "\"\"\"\n",
    "        *\n",
    "        **\n",
    "        ***\n",
    "        ****\n",
    "\"\"\"\n",
    "\n",
    "n = int(input(\"Enter the number of rows\"))\n",
    "for i in range(n):\n",
    "    for j in range(i+1):\n",
    "        print(\"*\",end=\"\")\n",
    "    print()\n"
   ]
  },
  {
   "cell_type": "code",
   "execution_count": 20,
   "id": "38b712b1",
   "metadata": {},
   "outputs": [
    {
     "name": "stdout",
     "output_type": "stream",
     "text": [
      "1\n",
      "12\n",
      "123\n",
      "1234\n",
      "12345\n"
     ]
    }
   ],
   "source": [
    "\"\"\"\n",
    "        1\n",
    "        12\n",
    "        123\n",
    "        1234\n",
    "        12345\n",
    "\"\"\"\n",
    "\n",
    "n = int(input(\"Enter the number of rows\"))\n",
    "for i in range(1,n+1):\n",
    "    for j in range(1,i+1):\n",
    "        print(j,end=\"\")\n",
    "    print()\n"
   ]
  },
  {
   "cell_type": "code",
   "execution_count": 21,
   "id": "e9b4d9cf",
   "metadata": {},
   "outputs": [
    {
     "name": "stdout",
     "output_type": "stream",
     "text": [
      "1\n",
      "22\n",
      "333\n",
      "4444\n",
      "55555\n"
     ]
    }
   ],
   "source": [
    "\"\"\"\n",
    "        1\n",
    "        22\n",
    "        333\n",
    "        4444\n",
    "        55555\n",
    "\"\"\"\n",
    "\n",
    "n = int(input(\"Enter the number of rows\"))\n",
    "for i in range(1,n+1):\n",
    "    for j in range(1,i+1):\n",
    "        print(i,end=\"\")\n",
    "    print()\n"
   ]
  },
  {
   "cell_type": "code",
   "execution_count": 23,
   "id": "61e6c006",
   "metadata": {},
   "outputs": [
    {
     "name": "stdout",
     "output_type": "stream",
     "text": [
      "12345\n",
      "1234\n",
      "123\n",
      "12\n",
      "1\n"
     ]
    }
   ],
   "source": [
    "\"\"\"\n",
    "        12345\n",
    "        1234\n",
    "        123\n",
    "        12\n",
    "        1\n",
    "\"\"\"\n",
    "n = int(input(\"Enter the number of rows\"))\n",
    "for i in range(n,0,-1):\n",
    "    for j in range(1,i+1):\n",
    "        print(j,end=\"\")\n",
    "    print()"
   ]
  },
  {
   "cell_type": "code",
   "execution_count": 24,
   "id": "c96eb823",
   "metadata": {},
   "outputs": [
    {
     "name": "stdout",
     "output_type": "stream",
     "text": [
      "*****\n",
      "****\n",
      "***\n",
      "**\n",
      "*\n"
     ]
    }
   ],
   "source": [
    "\"\"\"\n",
    "        *****\n",
    "        ****\n",
    "        ***\n",
    "        **\n",
    "        *\n",
    "\"\"\"\n",
    "\n",
    "n = int(input(\"Enter the number of rows\"))\n",
    "for i in range(n,0,-1):\n",
    "    for j in range(1,i+1):\n",
    "        print(\"*\",end=\"\")\n",
    "    print()"
   ]
  },
  {
   "cell_type": "code",
   "execution_count": null,
   "id": "e3d6f205",
   "metadata": {},
   "outputs": [],
   "source": [
    "\"\"\"\n",
    "            *\n",
    "           **\n",
    "          ***\n",
    "         **** \n",
    "        *****\n",
    "\"\"\"\n",
    "\n",
    "n = int(input(\"Enter the number of rows :\"))\n"
   ]
  },
  {
   "cell_type": "code",
   "execution_count": 25,
   "id": "7da26743",
   "metadata": {},
   "outputs": [
    {
     "name": "stdout",
     "output_type": "stream",
     "text": [
      "1\n",
      "10\n",
      "101\n",
      "1010\n",
      "10101\n"
     ]
    }
   ],
   "source": [
    "\"\"\"\n",
    "        1\n",
    "        10\n",
    "        101\n",
    "        1010\n",
    "        10101\n",
    "        101010\n",
    "\"\"\"\n",
    "\n",
    "n = int(input(\"Enter the number of rows\"))\n",
    "for i in range(n):\n",
    "    for j in range(i+1):\n",
    "        if j%2==0:\n",
    "                print(\"1\",end=\"\")\n",
    "        else:\n",
    "             print(\"0\",end=\"\")\n",
    "    print()"
   ]
  },
  {
   "cell_type": "code",
   "execution_count": 26,
   "id": "0847296e",
   "metadata": {},
   "outputs": [
    {
     "name": "stdout",
     "output_type": "stream",
     "text": [
      "1\n",
      "01\n",
      "010\n",
      "1010\n",
      "10101\n"
     ]
    }
   ],
   "source": [
    "\"\"\"\n",
    "1\n",
    "01\n",
    "010\n",
    "1010\n",
    "10101\n",
    "\"\"\"\n",
    "flag = 1\n",
    "n = int(input(\"Enter the number of rows\"))\n",
    "for i in range(n):\n",
    "    for j in range(i+1):\n",
    "        if flag == 1:\n",
    "                print(\"1\",end=\"\")\n",
    "                flag = 0\n",
    "        else:\n",
    "             print(\"0\",end=\"\")\n",
    "             flag = 1\n",
    "    print()"
   ]
  },
  {
   "cell_type": "code",
   "execution_count": null,
   "id": "644a7e4a",
   "metadata": {},
   "outputs": [],
   "source": []
  }
 ],
 "metadata": {
  "kernelspec": {
   "display_name": "Python (venv)",
   "language": "python",
   "name": "venv"
  },
  "language_info": {
   "codemirror_mode": {
    "name": "ipython",
    "version": 3
   },
   "file_extension": ".py",
   "mimetype": "text/x-python",
   "name": "python",
   "nbconvert_exporter": "python",
   "pygments_lexer": "ipython3",
   "version": "3.10.0"
  }
 },
 "nbformat": 4,
 "nbformat_minor": 5
}
